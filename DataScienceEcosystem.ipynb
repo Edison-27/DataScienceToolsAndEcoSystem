{
 "cells": [
  {
   "cell_type": "code",
   "execution_count": null,
   "id": "initial_id",
   "metadata": {
    "collapsed": true
   },
   "outputs": [],
   "source": "# Data Science Tools And Eco System "
  },
  {
   "metadata": {},
   "cell_type": "markdown",
   "source": "In This Notebook, Data Science tools and Ecosystem are Summarized ",
   "id": "9ebe2c632cf6fec8"
  },
  {
   "metadata": {},
   "cell_type": "markdown",
   "source": [
    "Some Of the Popular languages that Data Scientists use are:\n",
    "1. Python\n",
    "2. R \n",
    "3. SQL "
   ],
   "id": "7e3d2ab5fe45568b"
  },
  {
   "metadata": {},
   "cell_type": "markdown",
   "source": [
    "** Objectives: **\n",
    "- List Popular Languages for data  Science\n",
    "- List commonly used libraries\n",
    "- Examples of evaluating Arithmetic expressions in python\n",
    "- List Development environment open source tools used in data science \n"
   ],
   "id": "91ab87f88855be9e"
  },
  {
   "metadata": {},
   "cell_type": "markdown",
   "source": [
    "Some Of the Commonly used Libraries by data Scientists Include:\n",
    "1. Pandas\n",
    "2. Numpy\n",
    "3. matplotib"
   ],
   "id": "205a8b555f67d2c1"
  },
  {
   "metadata": {},
   "cell_type": "markdown",
   "source": [
    "| Data Science Tools |\n",
    "|--------------------|\n",
    "| Jupyter Notebook   |\n",
    "| RStudio            |\n",
    "| Appache Zeppelin   |\n"
   ],
   "id": "ce2252955b5983fb"
  },
  {
   "metadata": {
    "ExecuteTime": {
     "end_time": "2024-06-17T21:32:00.205970Z",
     "start_time": "2024-06-17T21:32:00.189770Z"
    }
   },
   "cell_type": "code",
   "source": "### Below are a few examples of evaluating arithmatic expression in Python",
   "id": "61ab6f2dd0114de4",
   "outputs": [],
   "execution_count": 2
  },
  {
   "metadata": {
    "ExecuteTime": {
     "end_time": "2024-06-17T21:35:07.639607Z",
     "start_time": "2024-06-17T21:35:07.627953Z"
    }
   },
   "cell_type": "code",
   "source": [
    "# This a simple arithmetic expression to multiply then add integers\n",
    "(3*4)+5 "
   ],
   "id": "2c016cbc01d4546a",
   "outputs": [
    {
     "data": {
      "text/plain": [
       "17"
      ]
     },
     "execution_count": 4,
     "metadata": {},
     "output_type": "execute_result"
    }
   ],
   "execution_count": 4
  },
  {
   "metadata": {
    "ExecuteTime": {
     "end_time": "2024-06-17T21:40:21.700531Z",
     "start_time": "2024-06-17T21:40:21.694716Z"
    }
   },
   "cell_type": "code",
   "source": [
    "# this will convert 200 minutes to hours by \n",
    "(200/60)"
   ],
   "id": "716f77442872f9ae",
   "outputs": [
    {
     "data": {
      "text/plain": [
       "3.3333333333333335"
      ]
     },
     "execution_count": 5,
     "metadata": {},
     "output_type": "execute_result"
    }
   ],
   "execution_count": 5
  },
  {
   "metadata": {},
   "cell_type": "markdown",
   "source": [
    "## Author \n",
    "Edison Sahaya Arul "
   ],
   "id": "a09a6a973a6b68bc"
  },
  {
   "metadata": {},
   "cell_type": "code",
   "outputs": [],
   "execution_count": null,
   "source": "",
   "id": "70303677ba7d1cb2"
  }
 ],
 "metadata": {
  "kernelspec": {
   "display_name": "Python 3",
   "language": "python",
   "name": "python3"
  },
  "language_info": {
   "codemirror_mode": {
    "name": "ipython",
    "version": 2
   },
   "file_extension": ".py",
   "mimetype": "text/x-python",
   "name": "python",
   "nbconvert_exporter": "python",
   "pygments_lexer": "ipython2",
   "version": "2.7.6"
  }
 },
 "nbformat": 4,
 "nbformat_minor": 5
}
